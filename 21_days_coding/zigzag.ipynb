{
 "cells": [
  {
   "cell_type": "code",
   "execution_count": 56,
   "metadata": {
    "collapsed": true
   },
   "outputs": [],
   "source": [
    "s: str = 'PAYPALISHIRING'\n",
    "numRows: int = 3\n",
    "if numRows == 1:\n",
    "    print(s)\n",
    "elif numRows == 2:\n",
    "    print(s[0::2] + s[1::2])\n",
    "\n",
    "between_firsts = numRows * 2 - 3\n",
    "full_part = 1 + between_firsts\n",
    "length = len(s)\n",
    "full_ranges = length // full_part\n",
    "\n",
    "firsts = [1 + i * full_part for i in range(full_ranges)]\n",
    "last_one = firsts[-1] + full_part if length > firsts[-1] + full_part else None\n",
    "between_rows = list(range(1, numRows - 1))"
   ]
  },
  {
   "cell_type": "code",
   "execution_count": 57,
   "outputs": [
    {
     "data": {
      "text/plain": "[1]"
     },
     "execution_count": 57,
     "metadata": {},
     "output_type": "execute_result"
    }
   ],
   "source": [
    "between_rows"
   ],
   "metadata": {
    "collapsed": false
   }
  },
  {
   "cell_type": "code",
   "execution_count": 52,
   "outputs": [],
   "source": [
    "last_one"
   ],
   "metadata": {
    "collapsed": false
   }
  },
  {
   "cell_type": "code",
   "execution_count": 1,
   "outputs": [],
   "source": [
    "s: str = 'PAYPALISHIR' * 5\n",
    "numRows: int = 6\n",
    "if numRows == 1:\n",
    "    print(s)\n",
    "elif numRows == 2:\n",
    "    print(s[0::2] + s[1::2])\n",
    "length = len(s)\n",
    "between_rows = numRows * 2 - 3\n",
    "inside_row = between_rows + 1\n",
    "full_ranges = length // inside_row\n",
    "firsts = [1 + i * inside_row for i in range(full_ranges)]\n",
    "\n",
    "first_rows = list(range(1, numRows - 1))\n",
    "last_ones = [numRows + i * inside_row for i in range(full_ranges)]\n",
    "\n"
   ],
   "metadata": {
    "collapsed": false
   }
  },
  {
   "cell_type": "code",
   "execution_count": 9,
   "outputs": [
    {
     "data": {
      "text/plain": "10"
     },
     "execution_count": 9,
     "metadata": {},
     "output_type": "execute_result"
    }
   ],
   "source": [
    "between_rows + 1"
   ],
   "metadata": {
    "collapsed": false
   }
  },
  {
   "cell_type": "code",
   "execution_count": 8,
   "outputs": [
    {
     "data": {
      "text/plain": "4"
     },
     "execution_count": 8,
     "metadata": {},
     "output_type": "execute_result"
    }
   ],
   "source": [
    "inside_row"
   ],
   "metadata": {
    "collapsed": false
   }
  },
  {
   "cell_type": "code",
   "execution_count": 2,
   "outputs": [
    {
     "data": {
      "text/plain": "[[2, 1, 12, 11, 22, 21, 32, 31, 42, 41],\n [2, 1, 12, 11, 22, 21, 32, 31, 42, 41],\n [2, 1, 12, 11, 22, 21, 32, 31, 42, 41],\n [2, 1, 12, 11, 22, 21, 32, 31, 42, 41],\n [2, 1, 12, 11, 22, 21, 32, 31, 42, 41],\n [2, 2, 12, 12, 22, 22, 32, 32, 42, 42],\n [2, 2, 12, 12, 22, 22, 32, 32, 42, 42],\n [2, 2, 12, 12, 22, 22, 32, 32, 42, 42],\n [2, 2, 12, 12, 22, 22, 32, 32, 42, 42],\n [2, 2, 12, 12, 22, 22, 32, 32, 42, 42],\n [2, 3, 12, 13, 22, 23, 32, 33, 42, 43],\n [2, 3, 12, 13, 22, 23, 32, 33, 42, 43],\n [2, 3, 12, 13, 22, 23, 32, 33, 42, 43],\n [2, 3, 12, 13, 22, 23, 32, 33, 42, 43],\n [2, 3, 12, 13, 22, 23, 32, 33, 42, 43],\n [2, 4, 12, 14, 22, 24, 32, 34, 42, 44],\n [2, 4, 12, 14, 22, 24, 32, 34, 42, 44],\n [2, 4, 12, 14, 22, 24, 32, 34, 42, 44],\n [2, 4, 12, 14, 22, 24, 32, 34, 42, 44],\n [2, 4, 12, 14, 22, 24, 32, 34, 42, 44]]"
     },
     "execution_count": 2,
     "metadata": {},
     "output_type": "execute_result"
    }
   ],
   "source": [
    "second_row = [] #+ [[i-1, i+1] for i in firsts]\n",
    "rows_inside = []\n",
    "for inside_row in list(range(1, numRows - 1)):\n",
    "    row = []\n",
    "    for i in firsts:\n",
    "        row.append(i + 1)\n",
    "        row.append(i +  inside_row - 1)\n",
    "        rows_inside.append(row)\n",
    "rows_inside"
   ],
   "metadata": {
    "collapsed": false
   }
  },
  {
   "cell_type": "code",
   "execution_count": 3,
   "outputs": [
    {
     "data": {
      "text/plain": "[1, 11, 21, 31, 41]"
     },
     "execution_count": 3,
     "metadata": {},
     "output_type": "execute_result"
    }
   ],
   "source": [
    "firsts"
   ],
   "metadata": {
    "collapsed": false
   }
  },
  {
   "cell_type": "code",
   "execution_count": 4,
   "outputs": [
    {
     "data": {
      "text/plain": "4"
     },
     "execution_count": 4,
     "metadata": {},
     "output_type": "execute_result"
    }
   ],
   "source": [
    "inside_row"
   ],
   "metadata": {
    "collapsed": false
   }
  },
  {
   "cell_type": "code",
   "execution_count": 115,
   "outputs": [
    {
     "data": {
      "text/plain": "[2, 4, 12, 14, 22, 24, 32, 34, 42, 44]"
     },
     "execution_count": 115,
     "metadata": {},
     "output_type": "execute_result"
    }
   ],
   "source": [
    "second_row = [] #+ [[i-1, i+1] for i in firsts]\n",
    "for i in firsts:\n",
    "    second_row.append(i + 1)\n",
    "    second_row.append(i + inside_row - 1)\n",
    "second_row"
   ],
   "metadata": {
    "collapsed": false
   }
  },
  {
   "cell_type": "code",
   "execution_count": 111,
   "outputs": [
    {
     "data": {
      "text/plain": "10"
     },
     "execution_count": 111,
     "metadata": {},
     "output_type": "execute_result"
    }
   ],
   "source": [
    "inside_row"
   ],
   "metadata": {
    "collapsed": false
   }
  },
  {
   "cell_type": "code",
   "execution_count": 106,
   "outputs": [
    {
     "data": {
      "text/plain": "'pya'"
     },
     "execution_count": 106,
     "metadata": {},
     "output_type": "execute_result"
    }
   ],
   "source": [
    "'paypal'[0::2]"
   ],
   "metadata": {
    "collapsed": false
   }
  },
  {
   "cell_type": "code",
   "execution_count": 107,
   "outputs": [
    {
     "data": {
      "text/plain": "'apl'"
     },
     "execution_count": 107,
     "metadata": {},
     "output_type": "execute_result"
    }
   ],
   "source": [
    "'paypal'[1::2]"
   ],
   "metadata": {
    "collapsed": false
   }
  },
  {
   "cell_type": "code",
   "execution_count": 87,
   "outputs": [
    {
     "data": {
      "text/plain": "[1, 11, 21, 31, 41]"
     },
     "execution_count": 87,
     "metadata": {},
     "output_type": "execute_result"
    }
   ],
   "source": [
    "firsts"
   ],
   "metadata": {
    "collapsed": false
   }
  },
  {
   "cell_type": "code",
   "execution_count": 88,
   "outputs": [
    {
     "data": {
      "text/plain": "[6, 16, 26, 36, 46]"
     },
     "execution_count": 88,
     "metadata": {},
     "output_type": "execute_result"
    }
   ],
   "source": [
    "last_ones"
   ],
   "metadata": {
    "collapsed": false
   }
  },
  {
   "cell_type": "code",
   "execution_count": 70,
   "outputs": [],
   "source": [],
   "metadata": {
    "collapsed": false
   }
  },
  {
   "cell_type": "code",
   "execution_count": 52,
   "outputs": [],
   "source": [
    "def binary_search(array, x, low, high) -> int:\n",
    "    while low <= high:\n",
    "        mid = low + (high - low) // 2\n",
    "        if array[mid] == x:\n",
    "            return mid\n",
    "        elif array[mid] < x:\n",
    "            low = mid + 1\n",
    "        else:\n",
    "            high = mid - 1\n",
    "    return -2"
   ],
   "metadata": {
    "collapsed": false
   }
  },
  {
   "cell_type": "code",
   "execution_count": 54,
   "outputs": [
    {
     "data": {
      "text/plain": "1"
     },
     "execution_count": 54,
     "metadata": {},
     "output_type": "execute_result"
    }
   ],
   "source": [
    "binary_search([0, -1], -1, 0, 2)"
   ],
   "metadata": {
    "collapsed": false
   }
  },
  {
   "cell_type": "code",
   "execution_count": 51,
   "outputs": [
    {
     "data": {
      "text/plain": "0"
     },
     "execution_count": 51,
     "metadata": {},
     "output_type": "execute_result"
    }
   ],
   "source": [
    "binary_search([1,2], 1, 0, 1)\n"
   ],
   "metadata": {
    "collapsed": false
   }
  },
  {
   "cell_type": "code",
   "execution_count": 55,
   "outputs": [],
   "source": [
    "class ZigZagConverter:\n",
    "    def convert(self, s: str, numRows: int) -> str:\n",
    "        # Edge cases\n",
    "        if numRows == 1 or numRows >= len(s):\n",
    "            return s\n",
    "\n",
    "        # Initialize the rows\n",
    "        rows = [''] * numRows\n",
    "        row_index = 0\n",
    "        step = 1\n",
    "\n",
    "        # Traverse the string\n",
    "        for c in s:\n",
    "            rows[row_index] += c\n",
    "            if row_index == 0:\n",
    "                step = 1\n",
    "            elif row_index == numRows - 1:\n",
    "                step = -1\n",
    "            row_index += step\n",
    "\n",
    "        # Concatenate the rows\n",
    "        return ''.join(rows)\n"
   ],
   "metadata": {
    "collapsed": false
   }
  },
  {
   "cell_type": "code",
   "execution_count": 56,
   "outputs": [
    {
     "name": "stdout",
     "output_type": "stream",
     "text": [
      "PAHNAPLSIIGYIR\n"
     ]
    }
   ],
   "source": [
    "zigzag_converter = ZigZagConverter()\n",
    "s = \"PAYPALISHIRING\"\n",
    "numRows = 3\n",
    "result = zigzag_converter.convert(s, numRows)\n",
    "print(result)\n"
   ],
   "metadata": {
    "collapsed": false
   }
  },
  {
   "cell_type": "code",
   "execution_count": null,
   "outputs": [],
   "source": [],
   "metadata": {
    "collapsed": false
   }
  }
 ],
 "metadata": {
  "kernelspec": {
   "display_name": "Python 3",
   "language": "python",
   "name": "python3"
  },
  "language_info": {
   "codemirror_mode": {
    "name": "ipython",
    "version": 2
   },
   "file_extension": ".py",
   "mimetype": "text/x-python",
   "name": "python",
   "nbconvert_exporter": "python",
   "pygments_lexer": "ipython2",
   "version": "2.7.6"
  }
 },
 "nbformat": 4,
 "nbformat_minor": 0
}
